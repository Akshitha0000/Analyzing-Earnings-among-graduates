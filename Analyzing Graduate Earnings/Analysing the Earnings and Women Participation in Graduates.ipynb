{
 "cells": [
  {
   "cell_type": "markdown",
   "metadata": {},
   "source": [
    "# Analysing the Earnings and Women Participation in Graduates "
   ]
  },
  {
   "cell_type": "code",
   "execution_count": null,
   "metadata": {},
   "outputs": [],
   "source": [
    "import pandas as pd\n",
    "import numpy as np\n",
    "import matplotlib.pyplot as plt\n",
    "\n",
    "%matplotlib inline\n",
    "\n",
    "recent_grads = pd.read_csv('recent-grads.csv')\n",
    "recent_grads.iloc[0]"
   ]
  },
  {
   "cell_type": "markdown",
   "metadata": {},
   "source": [
    "Petroleum Engineering is the major with the highest median earnings."
   ]
  },
  {
   "cell_type": "code",
   "execution_count": null,
   "metadata": {
    "scrolled": false
   },
   "outputs": [],
   "source": [
    "recent_grads.head()"
   ]
  },
  {
   "cell_type": "code",
   "execution_count": null,
   "metadata": {
    "scrolled": true
   },
   "outputs": [],
   "source": [
    "recent_grads.describe()"
   ]
  },
  {
   "cell_type": "markdown",
   "metadata": {},
   "source": [
    "The average median salary for all the majors is $40,000, while the average unemployment rate is about 0,07. The average share of women in the majors is around 52%."
   ]
  },
  {
   "cell_type": "markdown",
   "metadata": {},
   "source": [
    "Delete any rows that contains null data."
   ]
  },
  {
   "cell_type": "code",
   "execution_count": null,
   "metadata": {
    "scrolled": true
   },
   "outputs": [],
   "source": [
    "raw_data_count = recent_grads.shape[0]\n",
    "recent_grads = recent_grads.dropna()\n",
    "cleaned_data_count = recent_grads.shape[0]\n",
    "print(raw_data_count)\n",
    "print(cleaned_data_count)"
   ]
  },
  {
   "cell_type": "markdown",
   "metadata": {},
   "source": [
    "One row was deleted."
   ]
  },
  {
   "cell_type": "markdown",
   "metadata": {},
   "source": [
    "### Data Visualization\n",
    "The unemployment rate in the top ten highest and lowest median salaries"
   ]
  },
  {
   "cell_type": "code",
   "execution_count": null,
   "metadata": {
    "scrolled": true
   },
   "outputs": [],
   "source": [
    "recent_grads[:10].plot.bar(x='Major', y='Unemployment_rate')\n",
    "recent_grads[-10:].plot.bar(x='Major', y='Unemployment_rate')"
   ]
  },
  {
   "cell_type": "markdown",
   "metadata": {},
   "source": [
    "The highest median salaries, the Nuclear Engineering major has the biggest unemployment rate, followed by the Mining and Mineral Engineering major. For the lowest salaries, the Clinical Psychology major has the biggest unemployment rate. Both high and low salary majors have high and low unemployment rates."
   ]
  },
  {
   "cell_type": "markdown",
   "metadata": {},
   "source": [
    "Boxplots are used to see the variation in the 'Unemployment_rate' and in the 'Median' columns."
   ]
  },
  {
   "cell_type": "code",
   "execution_count": null,
   "metadata": {
    "scrolled": false
   },
   "outputs": [],
   "source": [
    "recent_grads[['Unemployment_rate']].boxplot()"
   ]
  },
  {
   "cell_type": "markdown",
   "metadata": {},
   "source": [
    "The median is about 0.07 and the last quartile goes from about 0.085 to 0.125, while the first quartile goes from 0.05 to 0.05."
   ]
  },
  {
   "cell_type": "code",
   "execution_count": null,
   "metadata": {
    "scrolled": false
   },
   "outputs": [],
   "source": [
    "recent_grads[['Median']].boxplot()"
   ]
  },
  {
   "cell_type": "markdown",
   "metadata": {},
   "source": [
    "The median is for the 'Median' column box plot is right below 40,000, while the last quertile goes from about 45 to 60 thousand."
   ]
  },
  {
   "cell_type": "markdown",
   "metadata": {},
   "source": [
    "Scatterplot is used to visualize any correlation between two varaibles. If the plot is too dense in some areas, we'll also use hexagonal bin plots so we can take the density into consideration."
   ]
  },
  {
   "cell_type": "code",
   "execution_count": null,
   "metadata": {
    "scrolled": true
   },
   "outputs": [],
   "source": [
    "fig, ax = plt.subplots(figsize=(7,7))\n",
    "ax.scatter(x=recent_grads['Total'], y=recent_grads['Median'])\n",
    "ax.set_title('Total Vs Median')\n",
    "ax.set_xlabel('Total')\n",
    "ax.set_ylabel('Median')"
   ]
  },
  {
   "cell_type": "code",
   "execution_count": null,
   "metadata": {},
   "outputs": [],
   "source": [
    "recent_grads.plot.hexbin(x = 'Total', y='Median', gridsize=15);"
   ]
  },
  {
   "cell_type": "code",
   "execution_count": null,
   "metadata": {
    "scrolled": false
   },
   "outputs": [],
   "source": [
    "fig, ax = plt.subplots(figsize=(7,7))\n",
    "ax.scatter(x=recent_grads['Total'], y=recent_grads['Unemployment_rate'])\n",
    "ax.set_title('Total Vs Unemployment Rate')\n",
    "ax.set_xlabel('Total')\n",
    "ax.set_ylabel('Unemployment Rate')"
   ]
  },
  {
   "cell_type": "markdown",
   "metadata": {},
   "source": [
    "We can see that there's no correlation between the total of students in the major neither with the median salary nor with the unemployment rate."
   ]
  },
  {
   "cell_type": "code",
   "execution_count": null,
   "metadata": {},
   "outputs": [],
   "source": [
    "fig, ax = plt.subplots(figsize=(7,7))\n",
    "ax.scatter(x=recent_grads['Full_time'], y=recent_grads['Median'])\n",
    "ax.set_title('Full Time Vs Median')\n",
    "ax.set_xlabel('Full Time')\n",
    "ax.set_ylabel('Median')"
   ]
  },
  {
   "cell_type": "code",
   "execution_count": null,
   "metadata": {
    "scrolled": true
   },
   "outputs": [],
   "source": [
    "recent_grads.plot.hexbin(x = 'Full_time', y='Median', gridsize=15);"
   ]
  },
  {
   "cell_type": "code",
   "execution_count": null,
   "metadata": {
    "scrolled": true
   },
   "outputs": [],
   "source": [
    "fig, ax = plt.subplots(figsize=(7,7))\n",
    "ax.scatter(x=recent_grads['Full_time'], y=recent_grads['Unemployment_rate'])\n",
    "ax.set_title('Full Time Vs Unemployment_rate')\n",
    "ax.set_xlabel('Full Time')\n",
    "ax.set_ylabel('Unemployment_rate')"
   ]
  },
  {
   "cell_type": "markdown",
   "metadata": {},
   "source": [
    "We also can't see no correlation between the amount of graduated with full time job and the median salary or unemployment rate."
   ]
  },
  {
   "cell_type": "code",
   "execution_count": null,
   "metadata": {
    "scrolled": true
   },
   "outputs": [],
   "source": [
    "fig, ax = plt.subplots(figsize=(7,7))\n",
    "ax.scatter(x=recent_grads['ShareWomen'], y=recent_grads['Unemployment_rate'])\n",
    "ax.set_title('Share of Women Vs Unemployment Rate')\n",
    "ax.set_xlabel('Share of Women')\n",
    "ax.set_ylabel('Unemployment Rate')"
   ]
  },
  {
   "cell_type": "markdown",
   "metadata": {},
   "source": [
    "Now let't see how gender affects the median salary and the unemployment rate."
   ]
  },
  {
   "cell_type": "code",
   "execution_count": null,
   "metadata": {},
   "outputs": [],
   "source": [
    "fig, ax = plt.subplots(figsize=(7,7))\n",
    "ax.scatter(x=recent_grads['ShareWomen'], y=recent_grads['Median'])\n",
    "ax.set_title('Share of Women Vs Median')\n",
    "ax.set_xlabel('Share of Women')\n",
    "ax.set_ylabel('Median')"
   ]
  },
  {
   "cell_type": "code",
   "execution_count": null,
   "metadata": {
    "scrolled": false
   },
   "outputs": [],
   "source": [
    "fig, ax = plt.subplots(figsize=(7,7))\n",
    "ax.scatter(x=recent_grads['Men'], y=recent_grads['Median'])\n",
    "ax.set_title('Men Vs Median')\n",
    "ax.set_xlabel('Men')\n",
    "ax.set_ylabel('Median')\n",
    "\n",
    "fig, ax = plt.subplots(figsize=(7,7))\n",
    "ax.scatter(x=recent_grads['Men'], y=recent_grads['Unemployment_rate'])\n",
    "ax.set_title('Men Vs Unemployment_rate')\n",
    "ax.set_xlabel('Men')\n",
    "ax.set_ylabel('Unemployment_rate')"
   ]
  },
  {
   "cell_type": "code",
   "execution_count": null,
   "metadata": {},
   "outputs": [],
   "source": [
    "recent_grads.plot.hexbin(x = 'Men', y='Median', gridsize=15);\n",
    "recent_grads.plot.hexbin(x = 'Men', y='Unemployment_rate', gridsize=15);"
   ]
  },
  {
   "cell_type": "code",
   "execution_count": null,
   "metadata": {
    "scrolled": false
   },
   "outputs": [],
   "source": [
    "fig, ax = plt.subplots(figsize=(7,7))\n",
    "ax.scatter(x=recent_grads['Women'], y=recent_grads['Median'])\n",
    "ax.set_title('Women Vs Median')\n",
    "ax.set_xlabel('Women')\n",
    "ax.set_ylabel('Median')\n",
    "\n",
    "fig, ax = plt.subplots(figsize=(7,7))\n",
    "ax.scatter(x=recent_grads['Women'], y=recent_grads['Unemployment_rate'])\n",
    "ax.set_title('Women Vs Unemployment_rate')\n",
    "ax.set_xlabel('Women')\n",
    "ax.set_ylabel('Unemployment_rate')"
   ]
  },
  {
   "cell_type": "code",
   "execution_count": null,
   "metadata": {
    "scrolled": true
   },
   "outputs": [],
   "source": [
    "recent_grads.plot.hexbin(x = 'Women', y='Median', gridsize=15);\n",
    "recent_grads.plot.hexbin(x = 'Women', y='Unemployment_rate', gridsize=15);"
   ]
  },
  {
   "cell_type": "markdown",
   "metadata": {},
   "source": [
    "All the plots look pretty much the same, showing no correlation, with the except of the 'Share of Women Vs Median' plot that shows a small negative correlation between the share of women and the median salary."
   ]
  },
  {
   "cell_type": "markdown",
   "metadata": {},
   "source": [
    "let's visualize the proportion of men and women in each one of the categories of majors."
   ]
  },
  {
   "cell_type": "code",
   "execution_count": null,
   "metadata": {
    "scrolled": false
   },
   "outputs": [],
   "source": [
    "recent_grads.groupby('Major_category')['Men', 'Women'].sum().plot(kind='barh', stacked=True)"
   ]
  },
  {
   "cell_type": "markdown",
   "metadata": {},
   "source": [
    "How many categories have the average share of women per major greater than 0.5."
   ]
  },
  {
   "cell_type": "code",
   "execution_count": null,
   "metadata": {
    "scrolled": true
   },
   "outputs": [],
   "source": [
    "recent_grads.groupby('Major_category').ShareWomen.mean().plot.barh()"
   ]
  },
  {
   "cell_type": "markdown",
   "metadata": {},
   "source": [
    "10 of the 16 categories have, in average, more women graduate than men graduate."
   ]
  },
  {
   "cell_type": "markdown",
   "metadata": {},
   "source": [
    "We'll now look at the share of women in each of the major int he top ten highest and lowest median earnings. Remember that the dataset is ordered by median earnings."
   ]
  },
  {
   "cell_type": "code",
   "execution_count": null,
   "metadata": {},
   "outputs": [],
   "source": [
    "recent_grads[:10].plot.bar(x='Major', y='ShareWomen')\n",
    "recent_grads[-10:].plot.bar(x='Major', y='ShareWomen')"
   ]
  },
  {
   "cell_type": "markdown",
   "metadata": {},
   "source": [
    "We can see that among the highest median salaries, the Astronomy and Astrophysics major has the biggest share of women, followed by the Actuarial Sciences major. For the lowest salaries all the majors have a big share of women, which supports the 'Share of Women Vs Median' plot that was shown above."
   ]
  },
  {
   "cell_type": "markdown",
   "metadata": {},
   "source": [
    "#HISTOGRAMS"
   ]
  },
  {
   "cell_type": "code",
   "execution_count": null,
   "metadata": {
    "scrolled": true
   },
   "outputs": [],
   "source": [
    "recent_grads['Median'].hist(bins=20, range=(0,100000), figsize=(7,7))"
   ]
  },
  {
   "cell_type": "markdown",
   "metadata": {},
   "source": [
    "Here we can see that the most common salary range in between 30 and 40 thousand dollars."
   ]
  },
  {
   "cell_type": "code",
   "execution_count": null,
   "metadata": {
    "scrolled": true
   },
   "outputs": [],
   "source": [
    "recent_grads['Employed'].hist(bins=20, range=(0,400000), figsize=(7,7))"
   ]
  },
  {
   "cell_type": "markdown",
   "metadata": {},
   "source": [
    "The most common number of employed graduates range in between 0 and 25 thousand."
   ]
  },
  {
   "cell_type": "code",
   "execution_count": null,
   "metadata": {
    "scrolled": true
   },
   "outputs": [],
   "source": [
    "recent_grads['ShareWomen'].hist(bins=10, range=(0,1), figsize=(7,7))"
   ]
  },
  {
   "cell_type": "markdown",
   "metadata": {},
   "source": [
    "The most common share of women in the majors in this dataset range in between 0.6 and 0.8."
   ]
  },
  {
   "cell_type": "code",
   "execution_count": null,
   "metadata": {
    "scrolled": true
   },
   "outputs": [],
   "source": [
    "recent_grads['Unemployment_rate'].hist(bins=20, range=(0,0.2), figsize=(7,7))"
   ]
  },
  {
   "cell_type": "markdown",
   "metadata": {},
   "source": [
    "And the most commons unemployment rates range from 5% to 6,25%."
   ]
  },
  {
   "cell_type": "markdown",
   "metadata": {},
   "source": [
    "We'll now use scatter matrices to see potential relationships and distributions between two columns simultaneously. First, we'll use the 'Sample_size' and 'Median' columns. Then we'll plot a scatter matrix for the 'Sample_size', 'Median' and 'Unemployment_rate' columns together."
   ]
  },
  {
   "cell_type": "code",
   "execution_count": null,
   "metadata": {},
   "outputs": [],
   "source": [
    "from pandas.plotting import scatter_matrix\n",
    "\n",
    "scatter_matrix(recent_grads[['Sample_size', 'Median']], figsize=(10,10));"
   ]
  },
  {
   "cell_type": "code",
   "execution_count": null,
   "metadata": {
    "scrolled": false
   },
   "outputs": [],
   "source": [
    "scatter_matrix(recent_grads[['Sample_size', 'Median', 'Unemployment_rate']], figsize=(10,10));"
   ]
  },
  {
   "cell_type": "markdown",
   "metadata": {},
   "source": [
    "We can see the histograms and the scatter plots that show us that there's no correlations between those columns."
   ]
  },
  {
   "cell_type": "markdown",
   "metadata": {},
   "source": [
    "# Conclusions\n",
    "\n",
    "* There's no correlation between the total of graduates in the major and median salary of the graduates;\n",
    "* There's a small negative correlation between the share of women and the median salary;\n",
    "* There's no link between the number of full-time employees and median salary;\n",
    "* Business is the major category with more graduates;\n",
    "* There more categories of majors with the majority of women than with the majority of men.\n"
   ]
  }
 ],
 "metadata": {
  "kernelspec": {
   "display_name": "Python 3 (ipykernel)",
   "language": "python",
   "name": "python3"
  },
  "language_info": {
   "codemirror_mode": {
    "name": "ipython",
    "version": 3
   },
   "file_extension": ".py",
   "mimetype": "text/x-python",
   "name": "python",
   "nbconvert_exporter": "python",
   "pygments_lexer": "ipython3",
   "version": "3.9.7"
  },
  "varInspector": {
   "cols": {
    "lenName": 16,
    "lenType": 16,
    "lenVar": 40
   },
   "kernels_config": {
    "python": {
     "delete_cmd_postfix": "",
     "delete_cmd_prefix": "del ",
     "library": "var_list.py",
     "varRefreshCmd": "print(var_dic_list())"
    },
    "r": {
     "delete_cmd_postfix": ") ",
     "delete_cmd_prefix": "rm(",
     "library": "var_list.r",
     "varRefreshCmd": "cat(var_dic_list()) "
    }
   },
   "types_to_exclude": [
    "module",
    "function",
    "builtin_function_or_method",
    "instance",
    "_Feature"
   ],
   "window_display": false
  }
 },
 "nbformat": 4,
 "nbformat_minor": 2
}
